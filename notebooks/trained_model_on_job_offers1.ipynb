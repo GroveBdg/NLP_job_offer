{
  "nbformat": 4,
  "nbformat_minor": 0,
  "metadata": {
    "colab": {
      "name": "trained_model_on_job_offers1.ipynb",
      "provenance": [],
      "collapsed_sections": []
    },
    "kernelspec": {
      "name": "python3",
      "display_name": "Python 3"
    },
    "accelerator": "GPU"
  },
  "cells": [
    {
      "cell_type": "code",
      "metadata": {
        "id": "lbH5JxItVoas",
        "colab_type": "code",
        "colab": {}
      },
      "source": [
        "import pandas as pd\n",
        "\n",
        "from gensim.utils import simple_preprocess\n",
        "from gensim.models import Word2Vec\n",
        "from gensim.models.phrases import Phraser, Phrases\n",
        "\n",
        "import warnings\n",
        "warnings.simplefilter(action='ignore', category=FutureWarning)\n",
        "import h5py\n",
        "warnings.resetwarnings()"
      ],
      "execution_count": 0,
      "outputs": []
    },
    {
      "cell_type": "code",
      "metadata": {
        "id": "i96_ZzwCV9oz",
        "colab_type": "code",
        "outputId": "3aa74c09-1052-4cee-bc97-251d20804998",
        "colab": {
          "base_uri": "https://localhost:8080/",
          "height": 34
        }
      },
      "source": [
        "df = pd.read_csv('job_ofer.csv', error_bad_lines=False, warn_bad_lines=False)\n",
        "df.shape"
      ],
      "execution_count": 0,
      "outputs": [
        {
          "output_type": "execute_result",
          "data": {
            "text/plain": [
              "(36109, 8)"
            ]
          },
          "metadata": {
            "tags": []
          },
          "execution_count": 4
        }
      ]
    },
    {
      "cell_type": "code",
      "metadata": {
        "id": "2yU33ZKwV9ul",
        "colab_type": "code",
        "outputId": "f4300fc6-d2fd-4618-ef1e-8f1e8aed8526",
        "colab": {
          "base_uri": "https://localhost:8080/",
          "height": 476
        }
      },
      "source": [
        "df.head()"
      ],
      "execution_count": 0,
      "outputs": [
        {
          "output_type": "execute_result",
          "data": {
            "text/html": [
              "<div>\n",
              "<style scoped>\n",
              "    .dataframe tbody tr th:only-of-type {\n",
              "        vertical-align: middle;\n",
              "    }\n",
              "\n",
              "    .dataframe tbody tr th {\n",
              "        vertical-align: top;\n",
              "    }\n",
              "\n",
              "    .dataframe thead th {\n",
              "        text-align: right;\n",
              "    }\n",
              "</style>\n",
              "<table border=\"1\" class=\"dataframe\">\n",
              "  <thead>\n",
              "    <tr style=\"text-align: right;\">\n",
              "      <th></th>\n",
              "      <th>title</th>\n",
              "      <th>company_name</th>\n",
              "      <th>address</th>\n",
              "      <th>description</th>\n",
              "      <th>seniority_level</th>\n",
              "      <th>employment_type</th>\n",
              "      <th>job_function</th>\n",
              "      <th>industries</th>\n",
              "    </tr>\n",
              "  </thead>\n",
              "  <tbody>\n",
              "    <tr>\n",
              "      <th>0</th>\n",
              "      <td>Machine Learning Engineer</td>\n",
              "      <td>Intellipro Group Inc</td>\n",
              "      <td>Palo Alto, CA, US</td>\n",
              "      <td>['About The Company', \"W*** is reshaping the f...</td>\n",
              "      <td>Entry level</td>\n",
              "      <td>Full-time</td>\n",
              "      <td>Engineering</td>\n",
              "      <td>Information Technology and Services</td>\n",
              "    </tr>\n",
              "    <tr>\n",
              "      <th>1</th>\n",
              "      <td>Deep Learning Applied Researcher - Chicago</td>\n",
              "      <td>Ethosia</td>\n",
              "      <td>Chicago, IL, US</td>\n",
              "      <td>['תיאור המשרה', 'Deep learning for Computer Vi...</td>\n",
              "      <td>Associate</td>\n",
              "      <td>Full-time</td>\n",
              "      <td>Other</td>\n",
              "      <td>Information Technology and Services</td>\n",
              "    </tr>\n",
              "    <tr>\n",
              "      <th>2</th>\n",
              "      <td>Machine Learning Engineer</td>\n",
              "      <td>Motorola Solutions</td>\n",
              "      <td>Chicago, IL, US</td>\n",
              "      <td>['Company Overview', 'At Motorola Solutions, w...</td>\n",
              "      <td>Entry level</td>\n",
              "      <td>Full-time</td>\n",
              "      <td>Engineering</td>\n",
              "      <td>Information Technology and Services</td>\n",
              "    </tr>\n",
              "    <tr>\n",
              "      <th>3</th>\n",
              "      <td>Machine Learning / Data Scientist</td>\n",
              "      <td>Proprius LLC</td>\n",
              "      <td>San Francisco, CA, US</td>\n",
              "      <td>['Our client is a digital invention agency foc...</td>\n",
              "      <td>Entry level</td>\n",
              "      <td>Full-time</td>\n",
              "      <td>Engineering</td>\n",
              "      <td>Information Technology and Services</td>\n",
              "    </tr>\n",
              "    <tr>\n",
              "      <th>4</th>\n",
              "      <td>Cloud Architect</td>\n",
              "      <td>TCS</td>\n",
              "      <td>Framingham, Massachusetts, United States</td>\n",
              "      <td>['Technical/Functional Skills', ' ', 'Good to ...</td>\n",
              "      <td>Mid-Senior level</td>\n",
              "      <td>Full-time</td>\n",
              "      <td>Engineering</td>\n",
              "      <td>Information Technology and Services</td>\n",
              "    </tr>\n",
              "  </tbody>\n",
              "</table>\n",
              "</div>"
            ],
            "text/plain": [
              "                                        title  ...                           industries\n",
              "0                   Machine Learning Engineer  ...  Information Technology and Services\n",
              "1  Deep Learning Applied Researcher - Chicago  ...  Information Technology and Services\n",
              "2                   Machine Learning Engineer  ...  Information Technology and Services\n",
              "3           Machine Learning / Data Scientist  ...  Information Technology and Services\n",
              "4                             Cloud Architect  ...  Information Technology and Services\n",
              "\n",
              "[5 rows x 8 columns]"
            ]
          },
          "metadata": {
            "tags": []
          },
          "execution_count": 6
        }
      ]
    },
    {
      "cell_type": "markdown",
      "metadata": {
        "id": "KIYgcxTvWmnT",
        "colab_type": "text"
      },
      "source": [
        "# **Word2Vec**"
      ]
    },
    {
      "cell_type": "code",
      "metadata": {
        "id": "B_czvgyEWb7g",
        "colab_type": "code",
        "colab": {}
      },
      "source": [
        "#  A list of individual tokens\n",
        "corpus = df['title'].map( simple_preprocess )"
      ],
      "execution_count": 0,
      "outputs": []
    },
    {
      "cell_type": "code",
      "metadata": {
        "id": "sRx9DaKxW4fT",
        "colab_type": "code",
        "colab": {}
      },
      "source": [
        "model = Word2Vec(corpus, size=100, window=2, min_count=1)"
      ],
      "execution_count": 0,
      "outputs": []
    },
    {
      "cell_type": "code",
      "metadata": {
        "id": "_l1km0e-XCoa",
        "colab_type": "code",
        "outputId": "48d56088-67af-4082-b5dc-33031b445f8d",
        "colab": {
          "base_uri": "https://localhost:8080/",
          "height": 241
        }
      },
      "source": [
        "model.wv.most_similar('machine')"
      ],
      "execution_count": 0,
      "outputs": [
        {
          "output_type": "stream",
          "text": [
            "/usr/local/lib/python3.6/dist-packages/gensim/matutils.py:737: FutureWarning: Conversion of the second argument of issubdtype from `int` to `np.signedinteger` is deprecated. In future, it will be treated as `np.int64 == np.dtype(int).type`.\n",
            "  if np.issubdtype(vec.dtype, np.int):\n"
          ],
          "name": "stderr"
        },
        {
          "output_type": "execute_result",
          "data": {
            "text/plain": [
              "[('deep', 0.9475566148757935),\n",
              " ('edge', 0.8278223872184753),\n",
              " ('natural', 0.7996666431427002),\n",
              " ('bentonville', 0.793515682220459),\n",
              " ('nlu', 0.7873601317405701),\n",
              " ('big', 0.785819411277771),\n",
              " ('nlp', 0.7834916114807129),\n",
              " ('scientists', 0.7819380164146423),\n",
              " ('algorithm', 0.7786482572555542),\n",
              " ('personalization', 0.7744515538215637)]"
            ]
          },
          "metadata": {
            "tags": []
          },
          "execution_count": 9
        }
      ]
    },
    {
      "cell_type": "markdown",
      "metadata": {
        "id": "McxRQkzMZIAO",
        "colab_type": "text"
      },
      "source": [
        "#**Title + phrases**"
      ]
    },
    {
      "cell_type": "code",
      "metadata": {
        "id": "_IM8g6cCYgVy",
        "colab_type": "code",
        "colab": {}
      },
      "source": [
        "title_corpus = df['title'].map( simple_preprocess )\n",
        "\n",
        "title_bigram = Phraser( Phrases(title_corpus, min_count=1, threshold=1) )"
      ],
      "execution_count": 0,
      "outputs": []
    },
    {
      "cell_type": "code",
      "metadata": {
        "id": "sm9pEED_Zklp",
        "colab_type": "code",
        "outputId": "55a5aa9d-da87-4c94-de66-f9a683728f02",
        "colab": {
          "base_uri": "https://localhost:8080/",
          "height": 34
        }
      },
      "source": [
        "#  Passing sentences through title_bigram\n",
        "title_bigram[ simple_preprocess('Deep Learning Applied Researcher - Chicago') ]"
      ],
      "execution_count": 0,
      "outputs": [
        {
          "output_type": "execute_result",
          "data": {
            "text/plain": [
              "['deep_learning', 'applied', 'researcher', 'chicago']"
            ]
          },
          "metadata": {
            "tags": []
          },
          "execution_count": 11
        }
      ]
    },
    {
      "cell_type": "code",
      "metadata": {
        "id": "QD_MlS8fZt_F",
        "colab_type": "code",
        "colab": {}
      },
      "source": [
        "title_corpus_phrase = [ title_bigram[sent] for sent in title_corpus]\n",
        "model = Word2Vec(title_corpus_phrase, size=100, window=2, min_count=1)"
      ],
      "execution_count": 0,
      "outputs": []
    },
    {
      "cell_type": "code",
      "metadata": {
        "id": "awbxW3R9Zxov",
        "colab_type": "code",
        "outputId": "2d46fa19-5d87-4eb7-c90c-8d44700fe4d5",
        "colab": {
          "base_uri": "https://localhost:8080/",
          "height": 241
        }
      },
      "source": [
        "model.wv.most_similar('machine')"
      ],
      "execution_count": 0,
      "outputs": [
        {
          "output_type": "stream",
          "text": [
            "/usr/local/lib/python3.6/dist-packages/gensim/matutils.py:737: FutureWarning: Conversion of the second argument of issubdtype from `int` to `np.signedinteger` is deprecated. In future, it will be treated as `np.int64 == np.dtype(int).type`.\n",
            "  if np.issubdtype(vec.dtype, np.int):\n"
          ],
          "name": "stderr"
        },
        {
          "output_type": "execute_result",
          "data": {
            "text/plain": [
              "[('container', 0.8177450895309448),\n",
              " ('iii_grades', 0.8123569488525391),\n",
              " ('askey', 0.8049790263175964),\n",
              " ('community_college', 0.8049756288528442),\n",
              " ('guide', 0.804436445236206),\n",
              " ('comptes', 0.8030059933662415),\n",
              " ('universal_parks', 0.801345944404602),\n",
              " ('ethics', 0.8012807369232178),\n",
              " ('store_merchandising', 0.8005654811859131),\n",
              " ('knee_reconstruction', 0.8002898693084717)]"
            ]
          },
          "metadata": {
            "tags": []
          },
          "execution_count": 13
        }
      ]
    },
    {
      "cell_type": "code",
      "metadata": {
        "id": "c85oSDJGauQK",
        "colab_type": "code",
        "colab": {}
      },
      "source": [
        "#  Connected words by _ + single words\n",
        "def prepare_corupus(corpus, bigram):\n",
        "  for sent in corpus:\n",
        "    yield bigram[sent] + sent"
      ],
      "execution_count": 0,
      "outputs": []
    },
    {
      "cell_type": "code",
      "metadata": {
        "id": "nXpMfJyEjIft",
        "colab_type": "code",
        "colab": {}
      },
      "source": [
        "ext_corp = list(prepare_corupus(title_corpus, title_bigram))\n",
        "title_model = Word2Vec( ext_corp, size=100, window=2, min_count=1 )"
      ],
      "execution_count": 0,
      "outputs": []
    },
    {
      "cell_type": "code",
      "metadata": {
        "id": "0MBHnacOkbNn",
        "colab_type": "code",
        "outputId": "06a8e49f-d056-48d3-bd4a-16036b23a775",
        "colab": {
          "base_uri": "https://localhost:8080/",
          "height": 241
        }
      },
      "source": [
        "title_model.wv.most_similar('machine')"
      ],
      "execution_count": 0,
      "outputs": [
        {
          "output_type": "stream",
          "text": [
            "/usr/local/lib/python3.6/dist-packages/gensim/matutils.py:737: FutureWarning: Conversion of the second argument of issubdtype from `int` to `np.signedinteger` is deprecated. In future, it will be treated as `np.int64 == np.dtype(int).type`.\n",
            "  if np.issubdtype(vec.dtype, np.int):\n"
          ],
          "name": "stderr"
        },
        {
          "output_type": "execute_result",
          "data": {
            "text/plain": [
              "[('deep', 0.9534536600112915),\n",
              " ('learning', 0.9381073713302612),\n",
              " ('machine_learning', 0.9323673844337463),\n",
              " ('computer_vision', 0.9206240177154541),\n",
              " ('learning_product', 0.9168796539306641),\n",
              " ('nlp_research', 0.9134105443954468),\n",
              " ('deep_learning', 0.9091349244117737),\n",
              " ('edge', 0.9082440137863159),\n",
              " ('hux', 0.9036274552345276),\n",
              " ('computer', 0.9027739763259888)]"
            ]
          },
          "metadata": {
            "tags": []
          },
          "execution_count": 16
        }
      ]
    },
    {
      "cell_type": "markdown",
      "metadata": {
        "id": "CII7jDY2lxSo",
        "colab_type": "text"
      },
      "source": [
        "# **Description**"
      ]
    },
    {
      "cell_type": "code",
      "metadata": {
        "id": "6gIO-Cs9mc64",
        "colab_type": "code",
        "colab": {}
      },
      "source": [
        "#  train title_bigram\n",
        "descr_corpus = df['description'].map( simple_preprocess )\n",
        "descr_bigram = Phraser( Phrases(descr_corpus, min_count=1, threshold=1) )"
      ],
      "execution_count": 0,
      "outputs": []
    },
    {
      "cell_type": "code",
      "metadata": {
        "id": "YHeqB0LimRr6",
        "colab_type": "code",
        "colab": {}
      },
      "source": [
        "ext_descr_corp = list(prepare_corupus(descr_corpus, descr_bigram))\n",
        "descr_model = Word2Vec( ext_corp, size=100, window=2, min_count=1 )"
      ],
      "execution_count": 0,
      "outputs": []
    },
    {
      "cell_type": "code",
      "metadata": {
        "id": "EbJ4Ea7-oYd3",
        "colab_type": "code",
        "outputId": "f9de1a5d-788c-4759-d164-e92cac0818f1",
        "colab": {
          "base_uri": "https://localhost:8080/",
          "height": 241
        }
      },
      "source": [
        "descr_model.wv.most_similar('nlp')"
      ],
      "execution_count": 0,
      "outputs": [
        {
          "output_type": "stream",
          "text": [
            "/usr/local/lib/python3.6/dist-packages/gensim/matutils.py:737: FutureWarning: Conversion of the second argument of issubdtype from `int` to `np.signedinteger` is deprecated. In future, it will be treated as `np.int64 == np.dtype(int).type`.\n",
            "  if np.issubdtype(vec.dtype, np.int):\n"
          ],
          "name": "stderr"
        },
        {
          "output_type": "execute_result",
          "data": {
            "text/plain": [
              "[('artificial_intelligence', 0.9928469061851501),\n",
              " ('ml', 0.9913045167922974),\n",
              " ('big_data', 0.9912072420120239),\n",
              " ('alpharetta', 0.9905535578727722),\n",
              " ('computer', 0.9893373847007751),\n",
              " ('deep_learning', 0.9875133037567139),\n",
              " ('computer_vision', 0.9845010042190552),\n",
              " ('deep', 0.9835388660430908),\n",
              " ('personalization', 0.9823084473609924),\n",
              " ('aws', 0.9788297414779663)]"
            ]
          },
          "metadata": {
            "tags": []
          },
          "execution_count": 21
        }
      ]
    },
    {
      "cell_type": "code",
      "metadata": {
        "id": "zcDTwNbRoj0t",
        "colab_type": "code",
        "outputId": "56f15b42-3462-493c-ef46-364f1f467460",
        "colab": {
          "base_uri": "https://localhost:8080/",
          "height": 241
        }
      },
      "source": [
        "title_model.wv.most_similar('nlp')"
      ],
      "execution_count": 0,
      "outputs": [
        {
          "output_type": "stream",
          "text": [
            "/usr/local/lib/python3.6/dist-packages/gensim/matutils.py:737: FutureWarning: Conversion of the second argument of issubdtype from `int` to `np.signedinteger` is deprecated. In future, it will be treated as `np.int64 == np.dtype(int).type`.\n",
            "  if np.issubdtype(vec.dtype, np.int):\n"
          ],
          "name": "stderr"
        },
        {
          "output_type": "execute_result",
          "data": {
            "text/plain": [
              "[('ml', 0.9911259412765503),\n",
              " ('computer_vision', 0.9899900555610657),\n",
              " ('applied_research', 0.9885576367378235),\n",
              " ('deep_learning', 0.9882297515869141),\n",
              " ('computer', 0.9873024225234985),\n",
              " ('applied', 0.9857988357543945),\n",
              " ('artificial_intelligence', 0.9856171011924744),\n",
              " ('geologist', 0.9837548732757568),\n",
              " ('alpharetta', 0.9828254580497742),\n",
              " ('big_data', 0.9825098514556885)]"
            ]
          },
          "metadata": {
            "tags": []
          },
          "execution_count": 22
        }
      ]
    },
    {
      "cell_type": "code",
      "metadata": {
        "id": "AAE6Btskor60",
        "colab_type": "code",
        "outputId": "7bfcb586-69b4-4af8-f735-214742066573",
        "colab": {
          "base_uri": "https://localhost:8080/",
          "height": 241
        }
      },
      "source": [
        "descr_model.wv.most_similar('python')"
      ],
      "execution_count": 0,
      "outputs": [
        {
          "output_type": "stream",
          "text": [
            "/usr/local/lib/python3.6/dist-packages/gensim/matutils.py:737: FutureWarning: Conversion of the second argument of issubdtype from `int` to `np.signedinteger` is deprecated. In future, it will be treated as `np.int64 == np.dtype(int).type`.\n",
            "  if np.issubdtype(vec.dtype, np.int):\n"
          ],
          "name": "stderr"
        },
        {
          "output_type": "execute_result",
          "data": {
            "text/plain": [
              "[('java', 0.9838465452194214),\n",
              " ('iib', 0.9810817837715149),\n",
              " ('android', 0.9771008491516113),\n",
              " ('backend', 0.9733642339706421),\n",
              " ('ios', 0.972675621509552),\n",
              " ('apply_now', 0.9717574119567871),\n",
              " ('senior_react', 0.969959020614624),\n",
              " ('bw', 0.9689472913742065),\n",
              " ('react', 0.9689252972602844),\n",
              " ('junior_developer', 0.9682441353797913)]"
            ]
          },
          "metadata": {
            "tags": []
          },
          "execution_count": 31
        }
      ]
    }
  ]
}